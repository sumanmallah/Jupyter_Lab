{
 "cells": [
  {
   "cell_type": "markdown",
   "id": "9f7043be",
   "metadata": {},
   "source": [
    "# Data Science Tools and Ecosystem"
   ]
  },
  {
   "cell_type": "markdown",
   "id": "277d8279",
   "metadata": {},
   "source": [
    "## In this notebook, Data Science Tools and Ecosystem are summarized."
   ]
  },
  {
   "cell_type": "markdown",
   "id": "9088ad82",
   "metadata": {},
   "source": [
    "### Key takeaways from this course\n",
    "1. The components of a Data Scientist's toolkit and various took.\n",
    "2. Identified the users and benefits of different languages like Python, R.\n",
    "3. Global communities for connecting with other users.\n",
    "4. Learned how to work in JupyterLab, Notebook Session, and some basics of Jupyter.\n",
    "5. Learned in detail about how to use Github. "
   ]
  },
  {
   "cell_type": "markdown",
   "id": "663276b8",
   "metadata": {},
   "source": [
    "__Objectives:__\n",
    "- List examples of open-source tools used in data science.\n",
    "- Describe how to work with kernels.\n",
    "- Review languages such as Java, Scala, C++, JavaScript, and Julia.\n",
    "- Demonstrate how to edit and upload files in GitHub.\n",
    "- Use different types of Jupyter Notebook templates and kernel.\n",
    "- List popular languages for Data Science."
   ]
  },
  {
   "cell_type": "markdown",
   "id": "f3f8ad08",
   "metadata": {},
   "source": [
    "### Some of the popular languages that Data Scientists use are:\n",
    "1. Python\n",
    "2. R\n",
    "3. Java\n",
    "4. SQL\n",
    "5. Julia\n",
    "6. Scala"
   ]
  },
  {
   "cell_type": "markdown",
   "id": "59f29f2f",
   "metadata": {},
   "source": [
    "### Some of the commonly used libraries used by Data Scientists include:\n",
    "1. Numpy\n",
    "2. Pandas\n",
    "3. Matplotlib\n",
    "4. TenserFlow\n",
    "5. Keras"
   ]
  },
  {
   "cell_type": "markdown",
   "id": "72921656",
   "metadata": {},
   "source": [
    "| Data Science Tools |\n",
    "| ------------------ |\n",
    "| Jupyter Notebook |\n",
    "| RStudio |\n",
    "| Visual Studio Code |"
   ]
  },
  {
   "cell_type": "markdown",
   "id": "45b327e9",
   "metadata": {},
   "source": [
    "### Below are a few examples of evaluating arthmetic expression in Python"
   ]
  },
  {
   "cell_type": "code",
   "execution_count": 9,
   "id": "e9585601",
   "metadata": {
    "collapsed": true
   },
   "outputs": [
    {
     "data": {
      "text/plain": [
       "17"
      ]
     },
     "execution_count": 9,
     "metadata": {},
     "output_type": "execute_result"
    }
   ],
   "source": [
    "# This a simple arthmetic expression to multiply then add integers.\n",
    "(3*4)+5"
   ]
  },
  {
   "cell_type": "code",
   "execution_count": 10,
   "id": "6e1b2969",
   "metadata": {
    "collapsed": true
   },
   "outputs": [
    {
     "data": {
      "text/plain": [
       "3.3333333333333335"
      ]
     },
     "execution_count": 10,
     "metadata": {},
     "output_type": "execute_result"
    }
   ],
   "source": [
    "# This will convert 200 minutes to hours by dividing by 60.\n",
    "200 / 60"
   ]
  },
  {
   "cell_type": "markdown",
   "id": "794c02a8",
   "metadata": {},
   "source": [
    " ## Author\n",
    " Suman Mallah"
   ]
  }
 ],
 "metadata": {
  "kernelspec": {
   "display_name": "Python 3 (ipykernel)",
   "language": "python",
   "name": "python3"
  },
  "language_info": {
   "codemirror_mode": {
    "name": "ipython",
    "version": 3
   },
   "file_extension": ".py",
   "mimetype": "text/x-python",
   "name": "python",
   "nbconvert_exporter": "python",
   "pygments_lexer": "ipython3",
   "version": "3.10.9"
  }
 },
 "nbformat": 4,
 "nbformat_minor": 5
}
